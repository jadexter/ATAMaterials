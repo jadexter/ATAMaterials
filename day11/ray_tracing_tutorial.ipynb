{
 "cells": [
  {
   "cell_type": "markdown",
   "metadata": {},
   "source": [
    "### ray tracing tutorial\n",
    "explore relativistic effects in black hole images"
   ]
  },
  {
   "cell_type": "code",
   "execution_count": null,
   "metadata": {
    "collapsed": false
   },
   "outputs": [],
   "source": [
    "from __future__ import print_function\n",
    "%matplotlib inline\n",
    "import matplotlib.pyplot as plt\n",
    "import numpy as np\n",
    "import matplotlib; matplotlib.rcParams['image.cmap']='inferno'"
   ]
  },
  {
   "cell_type": "markdown",
   "metadata": {},
   "source": [
    "function to **read position.dat file** from **ray_tracing_tutorial.cpp**<br>\n",
    "output order is alpha, beta, r, phi, order, g, intensity_disk, , time, intensity_synch<br>\n",
    "(alpha,beta) are (x,y) camera coordinates with spin axis pointing up<br>\n",
    "(r,phi) are ray coordinates in the equatorial plane when whichstop==DISK<br>\n",
    "(time) is the coordinate at either the black hole or large radius when whichstop==SHADOW<br>\n",
    "order is how many times the photon orbits the black hole and g is the redshift factor<br>\n",
    "intensities are for a blackbody disk and a toy model similar to synchrotron radiation as seen by the EHT<br>"
   ]
  },
  {
   "cell_type": "code",
   "execution_count": null,
   "metadata": {
    "collapsed": true
   },
   "outputs": [],
   "source": [
    "def read_output(name='position.dat'):\n",
    "    file=open(name,'r')\n",
    "    header=file.readline().split()#n=128; a=0.9\n",
    "    file.close()\n",
    "    n=np.int(header[0]); a=np.float(header[1])\n",
    "    data=np.genfromtxt(name,dtype='str',skip_header=1)\n",
    "    alpha=np.array(data[:,0],dtype=float); beta=np.array(data[:,1],dtype=float)\n",
    "    r=np.array(data[:,2],dtype=float)\n",
    "    phi=-np.pi/2.-np.array(data[:,3],dtype=float)\n",
    "    intensity_disk=np.array(data[:,6],dtype=float)\n",
    "    time=np.array(data[:,8],dtype=float)\n",
    "    intensity_synch=np.array(data[:,9],dtype=float)\n",
    "    g=np.array(data[:,5],dtype=float)\n",
    "    return n,a,alpha,beta,r,phi,intensity_disk,time,intensity_synch"
   ]
  },
  {
   "cell_type": "markdown",
   "metadata": {},
   "source": [
    "### each time you run ray_tracing_tutorial.cpp the position.dat file will be overwritten\n",
    "\n",
    "below we assume the original position.dat will be copied to a new file name for each problem (e.g. position_grid.dat for this one)\n",
    "\n",
    "problems I/II can be run from the same output (#define whichstop DISK)\n",
    "\n",
    "problems III/IV can be run from the same output (#define whichstop SHADOW)"
   ]
  },
  {
   "cell_type": "markdown",
   "metadata": {},
   "source": [
    "### I. mapping a distant camera onto the equatorial plane\n",
    "\n",
    "our grid of pixels was uniformly sampled on a distant camera. what does it look like when mapped to the equatorial plane of the black hole?\n",
    "\n",
    "time permitting it's interesting to compare figures at low/high spin and viewing inclination angle"
   ]
  },
  {
   "cell_type": "code",
   "execution_count": null,
   "metadata": {
    "collapsed": false
   },
   "outputs": [],
   "source": [
    "n,a,alpha,beta,r,phi,intensity_disk,time,intensity_synch = read_output(name='position_grid.dat')\n",
    "npts=32; nsamp=n//npts; lim=16.\n",
    "reff=np.sqrt(r**2.+a**2.)\n",
    "x=(reff*np.cos(phi)).reshape((n,n)); y=(reff*np.sin(phi)).reshape((n,n))\n",
    "plt.plot(x[::nsamp],y[::nsamp],marker='.',linestyle='',color='C0',markersize=2)\n",
    "plt.plot(x[:,::nsamp],y[:,::nsamp],marker='.',linestyle='',color='C0',markersize=2)\n",
    "plt.axis([-lim,lim,-lim,lim])\n",
    "plt.axes().set_aspect('equal')\n",
    "plt.xlabel(r'$\\alpha$ ($r_g$)',fontsize=12); plt.ylabel(r'$\\beta$ ($r_g$)',fontsize=12)"
   ]
  },
  {
   "cell_type": "markdown",
   "metadata": {},
   "source": [
    "### II. A thin accretion disk image (cf *Interstellar*)\n",
    "\n",
    "model of a thin disk in Keplerian rotation in the equatorial plane emitting as a blackbody with Teff ~ R^-3/4\n",
    "\n",
    "what would such an image look like in Newtonian gravity? what relativistic effects can you identify? \n",
    "\n",
    "can you name one that is **missing** in the Interstellar image?"
   ]
  },
  {
   "cell_type": "code",
   "execution_count": null,
   "metadata": {
    "collapsed": false
   },
   "outputs": [],
   "source": [
    "plt.imshow(intensity_disk.reshape((n,n)),origin='lower',extent=[np.min(alpha),np.max(alpha),np.min(beta),np.max(beta)],interpolation='bilinear',vmax=np.max(intensity_disk)*0.5)\n",
    "plt.xlabel(r'$\\alpha$ ($r_g$)',fontsize=12); plt.ylabel(r'$\\beta$ ($r_g$)',fontsize=12)"
   ]
  },
  {
   "cell_type": "markdown",
   "metadata": {},
   "source": [
    "### III. The shadow of a black hole\n",
    "\n",
    "now re-compile ray_tracing_tutorial.cpp with #define whichstop SHADOW\n",
    "\n",
    "also change fov=0.025 and theta0 to 20 deg\n",
    "\n",
    "then re-run and re-name the file as position_shadow.dat\n",
    "\n",
    "what does it mean that the central region is dark? what happens to photons traveling from those points on the camera?"
   ]
  },
  {
   "cell_type": "code",
   "execution_count": null,
   "metadata": {
    "collapsed": false
   },
   "outputs": [],
   "source": [
    "n,a,alpha,beta,r,phi,intensity_disk,time,intensity_synch = read_output(name='position_shadow.dat')\n",
    "plt.imshow(time.reshape((n,n)),vmin=0.9*np.max(time),vmax=0.99*np.max(time),extent=[np.min(alpha),np.max(alpha),np.min(beta),np.max(beta)],interpolation='bilinear')\n",
    "plt.xlabel(r'$\\alpha$ ($r_g$)',fontsize=12); plt.ylabel(r'$\\beta$ ($r_g$)',fontsize=12)"
   ]
  },
  {
   "cell_type": "markdown",
   "metadata": {},
   "source": [
    "### IV. A toy model EHT image\n",
    "\n",
    "now make an image of our toy emissivity intensity_synch meant to mimic emission concentrated very close to the black hole in gas rotating at relativistic speeds. \n",
    "\n",
    "Does it match the salient features of the EHT image?\n",
    "\n",
    "What are the sharp spikes in the 1D cross section in the x direction? Why is one higher than the other?"
   ]
  },
  {
   "cell_type": "code",
   "execution_count": null,
   "metadata": {
    "collapsed": false
   },
   "outputs": [],
   "source": [
    "alpha1=alpha.reshape((n,n))[:,0]\n",
    "beta1=beta.reshape((n,n))[0,:]\n",
    "plt.imshow((intensity_synch).reshape((n,n)),origin='lower',extent=[np.min(alpha1),np.max(alpha1),np.min(beta1),np.max(beta1)],interpolation='bilinear',vmax=0.5*np.max(intensity_synch))\n",
    "plt.xlabel(r'$\\alpha$ ($r_g$)',fontsize=12); plt.ylabel(r'$\\beta$ ($r_g$)',fontsize=12)\n",
    "plt.figure(figsize=(5,4))\n",
    "plt.plot(alpha1,(intensity_synch).reshape((n,n))[n/2])\n",
    "plt.xlim(-10.,10.)\n",
    "plt.xlabel(r'$\\alpha$ ($r_g$)',fontsize=12); plt.ylabel(r'Intensity',fontsize=12)"
   ]
  },
  {
   "cell_type": "markdown",
   "metadata": {},
   "source": [
    "bonus: try blurring it to the EHT resolution (~20 microarcseconds FWHM or here ~55 pixels FWHM, ~23 pixels sigma)\n",
    "\n",
    "multiple ways to convolve 2D arrays in python including with scipy and astropy"
   ]
  },
  {
   "cell_type": "code",
   "execution_count": null,
   "metadata": {
    "collapsed": true
   },
   "outputs": [],
   "source": []
  }
 ],
 "metadata": {
  "kernelspec": {
   "display_name": "Python 2",
   "language": "python",
   "name": "python2"
  },
  "language_info": {
   "codemirror_mode": {
    "name": "ipython",
    "version": 2
   },
   "file_extension": ".py",
   "mimetype": "text/x-python",
   "name": "python",
   "nbconvert_exporter": "python",
   "pygments_lexer": "ipython2",
   "version": "2.7.12"
  }
 },
 "nbformat": 4,
 "nbformat_minor": 0
}
